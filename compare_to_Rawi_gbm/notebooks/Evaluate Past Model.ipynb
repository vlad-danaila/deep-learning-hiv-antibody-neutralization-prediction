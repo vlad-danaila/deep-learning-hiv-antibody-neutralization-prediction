{
 "cells": [
  {
   "cell_type": "code",
   "execution_count": 1,
   "id": "698ca4f7",
   "metadata": {},
   "outputs": [],
   "source": [
    "# !rm -vrf deep_hiv_ab_pred\n",
    "# !git clone https://github.com/vlad-danaila/deep_hiv_ab_pred.git\n",
    "import sys\n",
    "import os\n",
    "sys.path.insert(0, 'deep_hiv_ab_pred')\n",
    "from deep_hiv_ab_pred.compare_to_Rawi_gbm.evaluate_from_saved_hyperparameters import evaluate_trained_model\n",
    "from deep_hiv_ab_pred.util.tools import dump_json\n",
    "evaluate_trained_model()\n",
    "dump_json({'finished':'true'}, 'finished.json')"
   ]
  }
 ],
 "metadata": {
  "kernelspec": {
   "display_name": "Python 3 (ipykernel)",
   "language": "python",
   "name": "python3"
  },
  "language_info": {
   "codemirror_mode": {
    "name": "ipython",
    "version": 3
   },
   "file_extension": ".py",
   "mimetype": "text/x-python",
   "name": "python",
   "nbconvert_exporter": "python",
   "pygments_lexer": "ipython3",
   "version": "3.7.10"
  }
 },
 "nbformat": 4,
 "nbformat_minor": 5
}
