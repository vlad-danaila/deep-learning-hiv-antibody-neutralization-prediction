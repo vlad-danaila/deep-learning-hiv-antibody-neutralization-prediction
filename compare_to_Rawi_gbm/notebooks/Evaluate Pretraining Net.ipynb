{
 "cells": [
  {
   "cell_type": "code",
   "execution_count": null,
   "id": "d6b625e4-a5bd-4801-96ea-72187bcfd6bc",
   "metadata": {},
   "outputs": [],
   "source": [
    "# !rm -vrf deep_hiv_ab_pred\n",
    "# !git clone https://github.com/vlad-danaila/deep_hiv_ab_pred.git\n",
    "import sys\n",
    "import os\n",
    "sys.path.insert(0, 'deep_hiv_ab_pred')"
   ]
  },
  {
   "cell_type": "code",
   "execution_count": null,
   "id": "4c12d25f-15d8-422c-865c-c251f188e3e1",
   "metadata": {},
   "outputs": [],
   "source": [
    "from deep_hiv_ab_pred.catnap.download_dataset import download_catnap\n",
    "from deep_hiv_ab_pred.util.tools import dump_json\n",
    "from deep_hiv_ab_pred.compare_to_Rawi_gbm.pretrained_net_eval import eval_pretrained_net\n",
    "from deep_hiv_ab_pred.util.logging import setup_logging\n",
    "download_catnap()\n",
    "setup_logging()"
   ]
  },
  {
   "cell_type": "code",
   "execution_count": null,
   "id": "66e4dea6",
   "metadata": {},
   "outputs": [],
   "source": [
    "tags = {\n",
    "    'trial': '330',\n",
    "    'validation': 'uniform',\n",
    "    'prune': 'treshold 0.05',\n",
    "    'proposed_epochs': 'conf default'\n",
    "}\n",
    "eval_pretrained_net('eval_pretrain_trial_330', proposed_epochs = 100, tags = None)"
   ]
  },
  {
   "cell_type": "code",
   "execution_count": null,
   "id": "7d08b89f-2cb6-47e7-b897-b1375af17778",
   "metadata": {},
   "outputs": [],
   "source": [
    "dump_json({'finished':'true'}, 'finished.json')"
   ]
  },
  {
   "cell_type": "code",
   "execution_count": null,
   "id": "1c7a55ef",
   "metadata": {},
   "outputs": [],
   "source": []
  }
 ],
 "metadata": {
  "kernelspec": {
   "display_name": "Python 3 (ipykernel)",
   "language": "python",
   "name": "python3"
  },
  "language_info": {
   "codemirror_mode": {
    "name": "ipython",
    "version": 3
   },
   "file_extension": ".py",
   "mimetype": "text/x-python",
   "name": "python",
   "nbconvert_exporter": "python",
   "pygments_lexer": "ipython3",
   "version": "3.7.10"
  }
 },
 "nbformat": 4,
 "nbformat_minor": 5
}
