{
 "cells": [
  {
   "cell_type": "code",
   "execution_count": 4,
   "id": "d6b625e4-a5bd-4801-96ea-72187bcfd6bc",
   "metadata": {},
   "outputs": [
    {
     "name": "stdout",
     "output_type": "stream",
     "text": [
      "Cloning into 'deep_hiv_ab_pred'...\n",
      "remote: Enumerating objects: 1087, done.\u001b[K\n",
      "remote: Counting objects: 100% (1087/1087), done.\u001b[K\n",
      "remote: Compressing objects: 100% (755/755), done.\u001b[K\n",
      "remote: Total 1087 (delta 756), reused 655 (delta 330), pack-reused 0\u001b[K\n",
      "Receiving objects: 100% (1087/1087), 10.70 MiB | 3.98 MiB/s, done.\n",
      "Resolving deltas: 100% (756/756), done.\n"
     ]
    }
   ],
   "source": [
    "# !rm -vrf deep_hiv_ab_pred\n",
    "!git clone https://github.com/vlad-danaila/deep_hiv_ab_pred.git\n",
    "import sys\n",
    "import os\n",
    "sys.path.insert(0, 'deep_hiv_ab_pred')"
   ]
  },
  {
   "cell_type": "code",
   "execution_count": 5,
   "id": "4c12d25f-15d8-422c-865c-c251f188e3e1",
   "metadata": {},
   "outputs": [],
   "source": [
    "from deep_hiv_ab_pred.catnap.download_dataset import download_catnap\n",
    "from deep_hiv_ab_pred.compare_to_Rawi_gbm.hyperparameter_optimisation import test_optimized_antibodies\n",
    "from deep_hiv_ab_pred.util.tools import dump_json\n",
    "download_catnap()"
   ]
  },
  {
   "cell_type": "code",
   "execution_count": null,
   "id": "e685ede3-8d15-4373-a590-ff83c0e87fe2",
   "metadata": {},
   "outputs": [
    {
     "name": "stderr",
     "output_type": "stream",
     "text": [
      "\u001b[32m[I 2021-11-14 19:01:30,311]\u001b[0m A new study created in RDB with name: Compare_Rawi_ICERI2021_v2_uniform_330_10-1074\u001b[0m\n",
      "/opt/conda/lib/python3.7/site-packages/torch/nn/modules/rnn.py:65: UserWarning: dropout option adds dropout after all but last recurrent layer, so non-zero dropout expects num_layers greater than 1, but got dropout=0.33171324889996645 and num_layers=1\n",
      "  \"num_layers={}\".format(dropout, num_layers))\n",
      "/opt/conda/lib/python3.7/site-packages/torch/nn/modules/rnn.py:65: UserWarning: dropout option adds dropout after all but last recurrent layer, so non-zero dropout expects num_layers greater than 1, but got dropout=0.030579341846214622 and num_layers=1\n",
      "  \"num_layers={}\".format(dropout, num_layers))\n"
     ]
    },
    {
     "name": "stdout",
     "output_type": "stream",
     "text": [
      "2021-11-14 19:01:47,829 [INFO] Epoch 1, Correlation: 0.43943711657493245, Accuracy: 0.7149132509559779\n",
      "2021-11-14 19:01:53,752 [INFO] Epoch 2, Correlation: 0.531866661995966, Accuracy: 0.7633283822646402\n",
      "2021-11-14 19:01:59,622 [INFO] Epoch 3, Correlation: 0.5725840676333348, Accuracy: 0.7838700502480804\n",
      "2021-11-14 19:02:05,486 [INFO] Epoch 4, Correlation: 0.616788825559759, Accuracy: 0.8061182568024527\n",
      "2021-11-14 19:02:11,336 [INFO] Epoch 5, Correlation: 0.6392037106201098, Accuracy: 0.8177480011376927\n",
      "2021-11-14 19:02:17,189 [INFO] Epoch 6, Correlation: 0.6635064526781824, Accuracy: 0.8298201813987297\n"
     ]
    }
   ],
   "source": [
    "tags = {\n",
    "    'freeze': 'antb and embed',\n",
    "    'trial': '330',\n",
    "    'validation': 'uniform',\n",
    "    'prune': 'treshold 0.05',\n",
    "    'pretrain_epochs': 10\n",
    "}\n",
    "test_optimized_antibodies('ICERI V2', tags = tags, model_trial_name = 'uniform_330', pretrain_epochs = 10)"
   ]
  },
  {
   "cell_type": "code",
   "execution_count": null,
   "id": "7d08b89f-2cb6-47e7-b897-b1375af17778",
   "metadata": {},
   "outputs": [],
   "source": [
    "dump_json({'finished':'true'}, 'finished.json')"
   ]
  },
  {
   "cell_type": "code",
   "execution_count": null,
   "id": "eac22083-259a-4481-af1b-032fe8688f93",
   "metadata": {},
   "outputs": [],
   "source": []
  }
 ],
 "metadata": {
  "kernelspec": {
   "display_name": "Python 3 (ipykernel)",
   "language": "python",
   "name": "python3"
  },
  "language_info": {
   "codemirror_mode": {
    "name": "ipython",
    "version": 3
   },
   "file_extension": ".py",
   "mimetype": "text/x-python",
   "name": "python",
   "nbconvert_exporter": "python",
   "pygments_lexer": "ipython3",
   "version": "3.7.10"
  }
 },
 "nbformat": 4,
 "nbformat_minor": 5
}
