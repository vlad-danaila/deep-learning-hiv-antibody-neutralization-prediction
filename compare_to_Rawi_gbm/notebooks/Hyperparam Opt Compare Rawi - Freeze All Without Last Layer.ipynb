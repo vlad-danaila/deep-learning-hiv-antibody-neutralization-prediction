{
 "cells": [
  {
   "cell_type": "code",
   "execution_count": 1,
   "id": "d6b625e4-a5bd-4801-96ea-72187bcfd6bc",
   "metadata": {},
   "outputs": [
    {
     "name": "stdout",
     "output_type": "stream",
     "text": [
      "Cloning into 'deep_hiv_ab_pred'...\n",
      "remote: Enumerating objects: 705, done.\u001b[K\n",
      "remote: Counting objects: 100% (705/705), done.\u001b[K\n",
      "remote: Compressing objects: 100% (498/498), done.\u001b[K\n",
      "remote: Total 705 (delta 479), reused 425 (delta 205), pack-reused 0\u001b[K\n",
      "Receiving objects: 100% (705/705), 8.01 MiB | 3.88 MiB/s, done.\n",
      "Resolving deltas: 100% (479/479), done.\n"
     ]
    }
   ],
   "source": [
    "# !rm -vrf deep_hiv_ab_pred\n",
    "!git clone https://github.com/vlad-danaila/deep_hiv_ab_pred.git\n",
    "import sys\n",
    "import os\n",
    "sys.path.insert(0, 'deep_hiv_ab_pred')"
   ]
  },
  {
   "cell_type": "code",
   "execution_count": null,
   "id": "4c12d25f-15d8-422c-865c-c251f188e3e1",
   "metadata": {},
   "outputs": [],
   "source": [
    "from deep_hiv_ab_pred.catnap.download_dataset import download_catnap\n",
    "from deep_hiv_ab_pred.compare_to_Rawi_gbm.hyperparameter_optimisation import test_optimized_antibodies\n",
    "from deep_hiv_ab_pred.util.tools import dump_json\n",
    "from deep_hiv_ab_pred.compare_to_Rawi_gbm.constants import FREEZE_ALL_BUT_LAST_LAYER\n",
    "download_catnap()"
   ]
  },
  {
   "cell_type": "code",
   "execution_count": null,
   "id": "e685ede3-8d15-4373-a590-ff83c0e87fe2",
   "metadata": {},
   "outputs": [],
   "source": [
    "tags = {\n",
    "    'note1': 'All net freezed except of last layer and last dropout',\n",
    "    'trial': '290'\n",
    "}\n",
    "test_optimized_antibodies('ICERI V2', tags = tags, model_trial_name = 'trial_290', freeze_mode = FREEZE_ALL_BUT_LAST_LAYER)"
   ]
  },
  {
   "cell_type": "code",
   "execution_count": null,
   "id": "7d08b89f-2cb6-47e7-b897-b1375af17778",
   "metadata": {},
   "outputs": [],
   "source": [
    "dump_json({'finished':'true'}, 'finished.json')"
   ]
  },
  {
   "cell_type": "code",
   "execution_count": null,
   "id": "eac22083-259a-4481-af1b-032fe8688f93",
   "metadata": {},
   "outputs": [],
   "source": []
  }
 ],
 "metadata": {
  "kernelspec": {
   "display_name": "Python 3 (ipykernel)",
   "language": "python",
   "name": "python3"
  },
  "language_info": {
   "codemirror_mode": {
    "name": "ipython",
    "version": 3
   },
   "file_extension": ".py",
   "mimetype": "text/x-python",
   "name": "python",
   "nbconvert_exporter": "python",
   "pygments_lexer": "ipython3",
   "version": "3.7.10"
  }
 },
 "nbformat": 4,
 "nbformat_minor": 5
}
