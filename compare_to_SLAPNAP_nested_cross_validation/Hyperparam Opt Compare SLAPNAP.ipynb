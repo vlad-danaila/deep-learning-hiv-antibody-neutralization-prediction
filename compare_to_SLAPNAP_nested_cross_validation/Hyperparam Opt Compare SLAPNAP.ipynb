{
 "cells": [
  {
   "cell_type": "code",
   "execution_count": null,
   "id": "aceb6bc5",
   "metadata": {},
   "outputs": [],
   "source": [
    "# !rm -vrf deep_hiv_ab_pred\n",
    "# !git clone https://github.com/vlad-danaila/deep_hiv_ab_pred.git\n",
    "import sys\n",
    "import os\n",
    "sys.path.insert(0, 'deep_hiv_ab_pred')"
   ]
  },
  {
   "cell_type": "code",
   "execution_count": null,
   "id": "57accd4a",
   "metadata": {},
   "outputs": [],
   "source": [
    "from deep_hiv_ab_pred.catnap.download_dataset import download_catnap\n",
    "from deep_hiv_ab_pred.compare_to_SLAPNAP_nested_cross_validation.hyperparameter_optimization_nested_cv import test_optimized_antibodies\n",
    "from deep_hiv_ab_pred.util.tools import dump_json\n",
    "from deep_hiv_ab_pred.compare_to_SLAPNAP_nested_cross_validation.constants import COMPARE_SPLITS_FOR_SLAPNAP_NESTED_CV_1\n",
    "download_catnap()"
   ]
  },
  {
   "cell_type": "code",
   "execution_count": null,
   "id": "96f7fcb3",
   "metadata": {},
   "outputs": [],
   "source": [
    "tags = {\n",
    "    'freeze': 'antb and embed',\n",
    "    'model': 'fc_att_gru_1_layer',\n",
    "    'splits': 'uniform',\n",
    "    'input': 'props-only',\n",
    "    'trial': '252',\n",
    "    'prune': 'treshold 0.05',\n",
    "    'pretrain_epochs': '100'\n",
    "}\n",
    "test_optimized_antibodies('Trial 252', tags = tags, model_trial_name = 'fc_att_gru_trial_252', \n",
    "                          pretrain_epochs = 100, splits_file = COMPARE_SPLITS_FOR_SLAPNAP_NESTED_CV_1)"
   ]
  },
  {
   "cell_type": "code",
   "execution_count": null,
   "id": "97dd35ca",
   "metadata": {},
   "outputs": [],
   "source": [
    "dump_json({'finished':'true'}, 'finished.json')"
   ]
  },
  {
   "cell_type": "code",
   "execution_count": null,
   "id": "a44e8f9f",
   "metadata": {},
   "outputs": [],
   "source": []
  }
 ],
 "metadata": {
  "kernelspec": {
   "display_name": "Python 3 (ipykernel)",
   "language": "python",
   "name": "python3"
  },
  "language_info": {
   "codemirror_mode": {
    "name": "ipython",
    "version": 3
   },
   "file_extension": ".py",
   "mimetype": "text/x-python",
   "name": "python",
   "nbconvert_exporter": "python",
   "pygments_lexer": "ipython3",
   "version": "3.7.11"
  }
 },
 "nbformat": 4,
 "nbformat_minor": 5
}
