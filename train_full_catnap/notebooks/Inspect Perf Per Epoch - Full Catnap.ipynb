{
 "cells": [
  {
   "cell_type": "code",
   "execution_count": null,
   "id": "d0d505ec-253a-495e-bcb9-145dab9bd069",
   "metadata": {},
   "outputs": [],
   "source": [
    "# !rm -vrf deep_hiv_ab_pred\n",
    "# !git clone https://github.com/vlad-danaila/deep_hiv_ab_pred.git\n",
    "import sys\n",
    "import os\n",
    "sys.path.insert(0, 'deep_hiv_ab_pred')"
   ]
  },
  {
   "cell_type": "code",
   "execution_count": null,
   "id": "1e6e248e-69f6-4365-837b-7aea10e58fb0",
   "metadata": {},
   "outputs": [],
   "source": [
    "from deep_hiv_ab_pred.catnap.download_dataset import download_catnap\n",
    "from deep_hiv_ab_pred.train_full_catnap.train_on_uniform_splits import inspect_performance_per_epocs\n",
    "download_catnap()"
   ]
  },
  {
   "cell_type": "code",
   "execution_count": null,
   "id": "6cac72cf-9a4b-4581-adb1-d0848bc95178",
   "metadata": {},
   "outputs": [],
   "source": [
    "inspect_performance_per_epocs(\"hyperparam_iceri_v2_uniform_prune_treshold_05_trial_330.json\", 100)"
   ]
  },
  {
   "cell_type": "code",
   "execution_count": null,
   "id": "8ed917cd",
   "metadata": {},
   "outputs": [],
   "source": []
  }
 ],
 "metadata": {
  "kernelspec": {
   "display_name": "Python 3 (ipykernel)",
   "language": "python",
   "name": "python3"
  },
  "language_info": {
   "codemirror_mode": {
    "name": "ipython",
    "version": 3
   },
   "file_extension": ".py",
   "mimetype": "text/x-python",
   "name": "python",
   "nbconvert_exporter": "python",
   "pygments_lexer": "ipython3",
   "version": "3.7.10"
  }
 },
 "nbformat": 4,
 "nbformat_minor": 5
}
